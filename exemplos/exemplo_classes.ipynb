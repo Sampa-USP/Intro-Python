{
 "cells": [
  {
   "cell_type": "code",
   "execution_count": 30,
   "id": "26abc53e",
   "metadata": {},
   "outputs": [],
   "source": [
    "class pessoa:\n",
    "    def __init__(self,altura,idade,sexo):\n",
    "        if (isinstance(altura,float)) and (isinstance(idade,int)):\n",
    "            pass\n",
    "        \n",
    "        else:\n",
    "            print(\"ERROOOO\")\n",
    "    \n",
    "        self.sexo = sexo\n",
    "        self.altura = altura\n",
    "        self.idade = idade\n",
    "    \n",
    "    def envelhecer(self, qte_anos):\n",
    "        self.idade = self.idade + qte_anos\n",
    "        self.altura = self.altura - qte_anos * 0.001\n",
    "    \n",
    "    def falar_altura(self):\n",
    "        print(f\"Eu tenho {self.altura}\")\n",
    "\n",
    "    def falar_sexo(self):\n",
    "        print(f\"Eu sou {self.sexo}\")\n",
    "        \n",
    "    def falar_idade(self):\n",
    "        print(f\"Eu tenho {self.idade}\")\n",
    "\n",
    "    "
   ]
  },
  {
   "cell_type": "code",
   "execution_count": 31,
   "id": "769d9caa",
   "metadata": {},
   "outputs": [],
   "source": [
    "p1 = pessoa(1.8,31,'masc')\n",
    "p2 = pessoa(1.99,20,'fem')"
   ]
  },
  {
   "cell_type": "code",
   "execution_count": 32,
   "id": "1e8b29cb",
   "metadata": {},
   "outputs": [
    {
     "name": "stdout",
     "output_type": "stream",
     "text": [
      "ERROOOO\n"
     ]
    }
   ],
   "source": [
    "p3 = pessoa('1.8',33,'masc')"
   ]
  },
  {
   "cell_type": "code",
   "execution_count": 22,
   "id": "648d84df",
   "metadata": {},
   "outputs": [],
   "source": [
    "\n",
    "for i in range(3):\n",
    "    p1.envelhecer(4)\n",
    "    "
   ]
  },
  {
   "cell_type": "code",
   "execution_count": 23,
   "id": "78af60cd",
   "metadata": {},
   "outputs": [
    {
     "data": {
      "text/plain": [
       "43"
      ]
     },
     "execution_count": 23,
     "metadata": {},
     "output_type": "execute_result"
    }
   ],
   "source": [
    "p1.idade"
   ]
  },
  {
   "cell_type": "code",
   "execution_count": 24,
   "id": "5bf6f5dd",
   "metadata": {},
   "outputs": [
    {
     "data": {
      "text/plain": [
       "20"
      ]
     },
     "execution_count": 24,
     "metadata": {},
     "output_type": "execute_result"
    }
   ],
   "source": [
    "p2.idade"
   ]
  },
  {
   "cell_type": "code",
   "execution_count": 26,
   "id": "7ac512ee",
   "metadata": {},
   "outputs": [
    {
     "data": {
      "text/plain": [
       "True"
      ]
     },
     "execution_count": 26,
     "metadata": {},
     "output_type": "execute_result"
    }
   ],
   "source": [
    "isinstance(\"dasda\",str)"
   ]
  },
  {
   "cell_type": "code",
   "execution_count": null,
   "id": "ea9302f7",
   "metadata": {},
   "outputs": [],
   "source": []
  }
 ],
 "metadata": {
  "kernelspec": {
   "display_name": "Python 3",
   "language": "python",
   "name": "python3"
  },
  "language_info": {
   "codemirror_mode": {
    "name": "ipython",
    "version": 3
   },
   "file_extension": ".py",
   "mimetype": "text/x-python",
   "name": "python",
   "nbconvert_exporter": "python",
   "pygments_lexer": "ipython3",
   "version": "3.9.15"
  }
 },
 "nbformat": 4,
 "nbformat_minor": 5
}
