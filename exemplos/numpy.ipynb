{
 "cells": [
  {
   "cell_type": "code",
   "execution_count": 5,
   "id": "9f093283",
   "metadata": {},
   "outputs": [],
   "source": [
    "import numpy as np"
   ]
  },
  {
   "cell_type": "code",
   "execution_count": 42,
   "id": "fb4c4a54",
   "metadata": {},
   "outputs": [],
   "source": [
    "\n",
    "def my_linspace(init,final,steps):\n",
    "    lista = []\n",
    "    dn = (final - init) / steps\n",
    "    \n",
    "    for i in range(steps + 1):\n",
    "        lista.append(init + dn * i)\n",
    "    return lista\n",
    "\n",
    "\n",
    "def soma(lista):\n",
    "    soma = 0\n",
    "    \n",
    "    for elem in lista:\n",
    "        soma += elem\n",
    "        \n",
    "    return soma"
   ]
  },
  {
   "cell_type": "code",
   "execution_count": 54,
   "id": "0f12ecfb",
   "metadata": {},
   "outputs": [],
   "source": [
    "lista = np.random.rand(100000)"
   ]
  },
  {
   "cell_type": "code",
   "execution_count": 55,
   "id": "48f45ae8",
   "metadata": {},
   "outputs": [
    {
     "name": "stdout",
     "output_type": "stream",
     "text": [
      "108 ms ± 838 µs per loop (mean ± std. dev. of 7 runs, 10 loops each)\n"
     ]
    }
   ],
   "source": [
    "%%timeit\n",
    "\n",
    "file = open(\"file.txt\",'w')\n",
    "\n",
    "for val in lista:\n",
    "    file.write(str(val) + \"\\n\")\n",
    "file.close()"
   ]
  },
  {
   "cell_type": "code",
   "execution_count": 56,
   "id": "07e3a3e1",
   "metadata": {},
   "outputs": [
    {
     "name": "stdout",
     "output_type": "stream",
     "text": [
      "222 ms ± 10.8 ms per loop (mean ± std. dev. of 7 runs, 1 loop each)\n"
     ]
    }
   ],
   "source": [
    "np.savetxt(\"file2.txt\",lista)"
   ]
  },
  {
   "cell_type": "code",
   "execution_count": 73,
   "id": "9db8b31c",
   "metadata": {},
   "outputs": [
    {
     "name": "stdout",
     "output_type": "stream",
     "text": [
      "3.1416772\n",
      "3.1420064\n",
      "3.1416892\n",
      "3.1410048\n",
      "3.1420208\n",
      "3.141832\n",
      "3.1409436\n",
      "3.1418584\n",
      "4.26 s ± 33.9 ms per loop (mean ± std. dev. of 7 runs, 1 loop each)\n"
     ]
    }
   ],
   "source": [
    "%%timeit\n",
    "import random\n",
    "\n",
    "numero_passos = 10000000\n",
    "count = 0\n",
    "\n",
    "\n",
    "for i in range(numero_passos):\n",
    "    x = random.random()\n",
    "    y = random.random()\n",
    "    \n",
    "    if x**2 + y**2 <= 1:\n",
    "        count+=1\n",
    "        \n",
    "count = 4 * (count / numero_passos)\n",
    "\n",
    "print(count)"
   ]
  },
  {
   "cell_type": "code",
   "execution_count": 82,
   "id": "d0a13e7d",
   "metadata": {},
   "outputs": [
    {
     "name": "stdout",
     "output_type": "stream",
     "text": [
      "302 ms ± 12.4 ms per loop (mean ± std. dev. of 7 runs, 1 loop each)\n"
     ]
    }
   ],
   "source": [
    "%%timeit \n",
    "numero_passos = 10000000\n",
    "\n",
    "x = np.random.random(numero_passos)**2\n",
    "y = np.random.random(numero_passos)**2\n",
    "\n",
    "d = (x + y)\n",
    "d = np.mean(1*(d<=1)) * 4"
   ]
  },
  {
   "cell_type": "code",
   "execution_count": 62,
   "id": "246fb136",
   "metadata": {},
   "outputs": [],
   "source": [
    "import random\n"
   ]
  },
  {
   "cell_type": "code",
   "execution_count": 83,
   "id": "71b1f017",
   "metadata": {},
   "outputs": [
    {
     "data": {
      "text/plain": [
       "14.2"
      ]
     },
     "execution_count": 83,
     "metadata": {},
     "output_type": "execute_result"
    }
   ],
   "source": [
    "4.26 / 0.3"
   ]
  },
  {
   "cell_type": "code",
   "execution_count": null,
   "id": "db94bcbe",
   "metadata": {},
   "outputs": [],
   "source": []
  }
 ],
 "metadata": {
  "kernelspec": {
   "display_name": "Python 3 (ipykernel)",
   "language": "python",
   "name": "python3"
  },
  "language_info": {
   "codemirror_mode": {
    "name": "ipython",
    "version": 3
   },
   "file_extension": ".py",
   "mimetype": "text/x-python",
   "name": "python",
   "nbconvert_exporter": "python",
   "pygments_lexer": "ipython3",
   "version": "3.8.16"
  }
 },
 "nbformat": 4,
 "nbformat_minor": 5
}
