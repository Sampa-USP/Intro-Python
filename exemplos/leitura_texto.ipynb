{
 "cells": [
  {
   "cell_type": "code",
   "execution_count": 2,
   "id": "16f66e59",
   "metadata": {},
   "outputs": [
    {
     "name": "stdout",
     "output_type": "stream",
     "text": [
      "aqui\r\n",
      "há\r\n",
      "um \r\n",
      "texto\r\n",
      ":)"
     ]
    }
   ],
   "source": [
    "!cat texto.txt"
   ]
  },
  {
   "cell_type": "code",
   "execution_count": 44,
   "id": "db4261c6",
   "metadata": {},
   "outputs": [],
   "source": [
    "file = open(\"texto.txt\",'r').read()"
   ]
  },
  {
   "cell_type": "code",
   "execution_count": 50,
   "id": "0b74c132",
   "metadata": {},
   "outputs": [],
   "source": [
    "s_file = file.split(\"\\n\")"
   ]
  },
  {
   "cell_type": "code",
   "execution_count": 54,
   "id": "a5932a5e",
   "metadata": {},
   "outputs": [
    {
     "data": {
      "text/plain": [
       "'H,0,-1,0'"
      ]
     },
     "execution_count": 54,
     "metadata": {},
     "output_type": "execute_result"
    }
   ],
   "source": [
    "s_file[2]"
   ]
  },
  {
   "cell_type": "code",
   "execution_count": 65,
   "id": "dbe7a6f9",
   "metadata": {},
   "outputs": [
    {
     "name": "stdout",
     "output_type": "stream",
     "text": [
      "['O', '0', '0', '0']\n",
      "['H', '0', '1', '0']\n",
      "['H', '0', '-1', '0']\n"
     ]
    }
   ],
   "source": [
    "for linha in s_file:\n",
    "    s_linha = linha.split(\",\")\n",
    "    print(s_linha)"
   ]
  }
 ],
 "metadata": {
  "kernelspec": {
   "display_name": "Python 3",
   "language": "python",
   "name": "python3"
  },
  "language_info": {
   "codemirror_mode": {
    "name": "ipython",
    "version": 3
   },
   "file_extension": ".py",
   "mimetype": "text/x-python",
   "name": "python",
   "nbconvert_exporter": "python",
   "pygments_lexer": "ipython3",
   "version": "3.9.15"
  }
 },
 "nbformat": 4,
 "nbformat_minor": 5
}
