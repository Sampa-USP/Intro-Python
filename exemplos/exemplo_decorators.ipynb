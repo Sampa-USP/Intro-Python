{
 "cells": [
  {
   "cell_type": "code",
   "execution_count": 38,
   "id": "e42bab5a",
   "metadata": {},
   "outputs": [],
   "source": [
    "import time\n",
    "\n",
    "def print_info(func):\n",
    "    def wrapper():\n",
    "        print(\"Função foi chamada\")\n",
    "        t0 = time.time()\n",
    "        func()\n",
    "        tf = time.time()\n",
    "        print(f\"Função concluída em {tf - t0}\")\n",
    "    return wrapper\n",
    "\n",
    "@print_info\n",
    "def f():\n",
    "    time.sleep(0.000001)"
   ]
  },
  {
   "cell_type": "code",
   "execution_count": 39,
   "id": "3db4b587",
   "metadata": {},
   "outputs": [
    {
     "name": "stdout",
     "output_type": "stream",
     "text": [
      "Função foi chamada\n",
      "Função concluída em 0.0003962516784667969\n"
     ]
    }
   ],
   "source": [
    "f()"
   ]
  },
  {
   "cell_type": "code",
   "execution_count": 31,
   "id": "07fc9c76",
   "metadata": {},
   "outputs": [],
   "source": [
    "t0 = time.time()"
   ]
  },
  {
   "cell_type": "code",
   "execution_count": 32,
   "id": "0ff68990",
   "metadata": {},
   "outputs": [],
   "source": [
    "tf = time.time()"
   ]
  },
  {
   "cell_type": "code",
   "execution_count": 33,
   "id": "370e3e49",
   "metadata": {},
   "outputs": [
    {
     "name": "stdout",
     "output_type": "stream",
     "text": [
      "5.3444249629974365\n"
     ]
    }
   ],
   "source": [
    "print(tf-t0)"
   ]
  },
  {
   "cell_type": "code",
   "execution_count": null,
   "id": "01541407",
   "metadata": {},
   "outputs": [],
   "source": []
  }
 ],
 "metadata": {
  "kernelspec": {
   "display_name": "Python 3",
   "language": "python",
   "name": "python3"
  },
  "language_info": {
   "codemirror_mode": {
    "name": "ipython",
    "version": 3
   },
   "file_extension": ".py",
   "mimetype": "text/x-python",
   "name": "python",
   "nbconvert_exporter": "python",
   "pygments_lexer": "ipython3",
   "version": "3.9.15"
  }
 },
 "nbformat": 4,
 "nbformat_minor": 5
}
