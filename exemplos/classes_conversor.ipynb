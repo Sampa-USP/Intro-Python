{
 "cells": [
  {
   "cell_type": "markdown",
   "id": "66386ca2",
   "metadata": {},
   "source": [
    "Suponha que você precise implementar um programa que realize a conversão de unidades de medida. Para isso, você decide criar uma classe chamada ConversorUnidades que possua métodos para realizar as seguintes conversões:\n",
    "\n",
    "- Celsius para Fahrenheit\n",
    "- Fahrenheit para Celsius\n",
    "- Quilômetros por hora para milhas por hora\n",
    "- Milhas por hora para quilômetros por hora\n"
   ]
  },
  {
   "cell_type": "code",
   "execution_count": 1,
   "id": "d9d4b7d7",
   "metadata": {},
   "outputs": [],
   "source": [
    "class ConversorUnidades:\n",
    "    def celsius_para_fahrenheit(self, celsius):\n",
    "        fahrenheit = (celsius * 9/5) + 32\n",
    "        return fahrenheit\n",
    "    \n",
    "    def fahrenheit_para_celsius(self, fahrenheit):\n",
    "        celsius = (fahrenheit - 32) * 5/9\n",
    "        return celsius\n",
    "    \n",
    "    def kmh_para_mph(self, kmh):\n",
    "        mph = kmh / 1.609\n",
    "        return mph\n",
    "    \n",
    "    def mph_para_kmh(self, mph):\n",
    "        kmh = mph * 1.609\n",
    "        return kmh\n"
   ]
  },
  {
   "cell_type": "code",
   "execution_count": 2,
   "id": "9d3f91f3",
   "metadata": {},
   "outputs": [],
   "source": [
    "conversor = ConversorUnidades()"
   ]
  },
  {
   "cell_type": "code",
   "execution_count": 5,
   "id": "be449637",
   "metadata": {},
   "outputs": [
    {
     "data": {
      "text/plain": [
       "212.0"
      ]
     },
     "execution_count": 5,
     "metadata": {},
     "output_type": "execute_result"
    }
   ],
   "source": [
    "conversor.celsius_para_fahrenheit(100)"
   ]
  },
  {
   "cell_type": "code",
   "execution_count": null,
   "id": "226fc924",
   "metadata": {},
   "outputs": [],
   "source": []
  }
 ],
 "metadata": {
  "kernelspec": {
   "display_name": "Python 3",
   "language": "python",
   "name": "python3"
  },
  "language_info": {
   "codemirror_mode": {
    "name": "ipython",
    "version": 3
   },
   "file_extension": ".py",
   "mimetype": "text/x-python",
   "name": "python",
   "nbconvert_exporter": "python",
   "pygments_lexer": "ipython3",
   "version": "3.9.15"
  }
 },
 "nbformat": 4,
 "nbformat_minor": 5
}
