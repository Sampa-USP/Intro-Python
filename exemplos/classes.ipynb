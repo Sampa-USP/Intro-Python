{
 "cells": [
  {
   "cell_type": "markdown",
   "id": "ffef6a6b",
   "metadata": {},
   "source": [
    "Suponha que você precise desenvolver um programa para gerenciar uma biblioteca. \n",
    "\n",
    "O programa deve permitir a gestão dos livros da biblioteca, permitindo adicionar novos livros, atualizar informações de livros existentes e remover livros. O programa também deve permitir que os usuários realizem empréstimos e devoluções de livros, além de consultar informações sobre livros e usuários.\n",
    "\n",
    "Para isso, você decide criar as seguintes classes:\n",
    "\n",
    "- Livro: representa um livro da biblioteca, possuindo os seguintes atributos: título, autor, editora e ano de publicação.\n",
    "- Usuario: representa um usuário da biblioteca, possuindo os seguintes atributos: nome, telefone e email.\n",
    "- Biblioteca: representa a biblioteca, possuindo os seguintes atributos: lista de livros e lista de usuários. A classe também possui métodos para adicionar, remover e atualizar informações de livros e usuários, além de métodos para realizar empréstimos e devoluções de livros.\n"
   ]
  },
  {
   "cell_type": "markdown",
   "id": "5daf3e59",
   "metadata": {},
   "source": [
    "## Livros"
   ]
  },
  {
   "cell_type": "code",
   "execution_count": 6,
   "id": "80f265da",
   "metadata": {},
   "outputs": [],
   "source": [
    "class Livro:\n",
    "    def __init__(self, titulo, autor, editora, ano):\n",
    "        self.titulo = titulo\n",
    "        self.autor = autor\n",
    "        self.editora = editora\n",
    "        self.ano = ano\n",
    "        self.emprestado = False\n",
    "        self.usuario = None\n",
    "    \n",
    "    def emprestar(self, usuario):\n",
    "        if self.emprestado:\n",
    "            print('Livro já emprestado.')\n",
    "        else:\n",
    "            self.emprestado = True\n",
    "            self.usuario = usuario\n",
    "            print('Livro emprestado com sucesso.')\n",
    "    \n",
    "    def devolver(self):\n",
    "        if not self.emprestado:\n",
    "            print('Livro não está emprestado.')\n",
    "        else:\n",
    "            self.emprestado = False\n",
    "            self.usuario = None\n",
    "            print('Livro devolvido com sucesso.')\n",
    "    \n",
    "    def __str__(self):\n",
    "        return f'Título: {self.titulo}\\nAutor: {self.autor}\\nEditora: {self.editora}\\nAno de publicação: {self.ano}\\nEmprestado: {self.emprestado}\\nUsuário: {self.usuario}'\n"
   ]
  },
  {
   "cell_type": "markdown",
   "id": "ca9b8779",
   "metadata": {},
   "source": [
    "## Usuários"
   ]
  },
  {
   "cell_type": "code",
   "execution_count": 7,
   "id": "b327ca5f",
   "metadata": {},
   "outputs": [],
   "source": [
    "class Usuario:\n",
    "    def __init__(self, nome, telefone, email):\n",
    "        self.nome = nome\n",
    "        self.telefone = telefone\n",
    "        self.email = email\n",
    "    \n",
    "    def __str__(self):\n",
    "        return f'Nome: {self.nome}\\nTelefone: {self.telefone}\\nEmail: {self.email}'\n"
   ]
  },
  {
   "cell_type": "markdown",
   "id": "17e1a74c",
   "metadata": {},
   "source": [
    "## Biblioteca"
   ]
  },
  {
   "cell_type": "code",
   "execution_count": 31,
   "id": "7e9ed339",
   "metadata": {},
   "outputs": [],
   "source": [
    "class Biblioteca:\n",
    "    def __init__(self):\n",
    "        self.livros = []\n",
    "        self.usuarios = []\n",
    "\n",
    "    def adicionar_livro(self, livro):\n",
    "        self.livros.append(livro)\n",
    "\n",
    "    def remover_livro(self, livro):\n",
    "        self.livros.remove(livro)\n",
    "\n",
    "    def atualizar_livro(self, livro, novos_dados):\n",
    "        livro.titulo = novos_dados['titulo']\n",
    "        livro.autor = novos_dados['autor']\n",
    "        livro.editora = novos_dados['editora']\n",
    "        livro.ano = novos_dados['ano']\n",
    "\n",
    "    def adicionar_usuario(self, usuario):\n",
    "        self.usuarios.append(usuario)\n",
    "\n",
    "    def remover_usuario(self, usuario):\n",
    "        self.usuarios.remove(usuario)\n",
    "\n",
    "    def atualizar_usuario(self, usuario, novos_dados):\n",
    "        usuario.nome = novos_dados['nome']\n",
    "        usuario.telefone = novos_dados['telefone']\n",
    "        usuario.email = novos_dados['email']\n",
    "\n",
    "    def listar_livros(self):\n",
    "        for livro in self.livros:\n",
    "            print(livro)\n",
    "            print(\"#\"*10)\n",
    "\n",
    "    def listar_usuarios(self):\n",
    "        for usuario in self.usuarios:\n",
    "            print(usuario)\n",
    "\n",
    "    def emprestar_livro(self, livro, usuario):\n",
    "        livro.emprestar(usuario)\n",
    "\n",
    "    def devolver_livro(self, livro):\n",
    "        livro.devolver()\n"
   ]
  },
  {
   "cell_type": "markdown",
   "id": "0965dcda",
   "metadata": {},
   "source": [
    "## Utilizando todos juntos :"
   ]
  },
  {
   "cell_type": "code",
   "execution_count": 32,
   "id": "d040d3e3",
   "metadata": {},
   "outputs": [],
   "source": [
    "biblioteca = Biblioteca()\n"
   ]
  },
  {
   "cell_type": "code",
   "execution_count": 33,
   "id": "5bfce547",
   "metadata": {},
   "outputs": [],
   "source": [
    "livro1 = Livro('O Senhor dos Anéis', 'J.R.R. Tolkien', 'Martins Fontes', '1954')\n",
    "livro2 = Livro('Harry Potter e a Pedra Filosofal', 'J.K. Rowling', 'Rocco', '1997')\n",
    "livro3 = Livro('1984', 'George Orwell', 'Companhia das Letras', '1949')\n"
   ]
  },
  {
   "cell_type": "code",
   "execution_count": 34,
   "id": "345a1c3b",
   "metadata": {},
   "outputs": [],
   "source": [
    "biblioteca.adicionar_livro(livro1)\n",
    "biblioteca.adicionar_livro(livro2)\n",
    "biblioteca.adicionar_livro(livro3)\n"
   ]
  },
  {
   "cell_type": "code",
   "execution_count": 35,
   "id": "0ed0303e",
   "metadata": {},
   "outputs": [],
   "source": [
    "usuario1 = Usuario('João', '11 99999-9999', 'joao@gmail.com')\n",
    "usuario2 = Usuario('Maria', '11 88888-8888', 'maria@gmail.com')\n",
    "\n",
    "biblioteca.adicionar_usuario(usuario1)\n",
    "biblioteca.adicionar_usuario(usuario2)\n"
   ]
  },
  {
   "cell_type": "code",
   "execution_count": 36,
   "id": "b1296df3",
   "metadata": {},
   "outputs": [
    {
     "name": "stdout",
     "output_type": "stream",
     "text": [
      "Título: O Senhor dos Anéis\n",
      "Autor: J.R.R. Tolkien\n",
      "Editora: Martins Fontes\n",
      "Ano de publicação: 1954\n",
      "Emprestado: False\n",
      "Usuário: None\n",
      "##########\n",
      "Título: Harry Potter e a Pedra Filosofal\n",
      "Autor: J.K. Rowling\n",
      "Editora: Rocco\n",
      "Ano de publicação: 1997\n",
      "Emprestado: False\n",
      "Usuário: None\n",
      "##########\n",
      "Título: 1984\n",
      "Autor: George Orwell\n",
      "Editora: Companhia das Letras\n",
      "Ano de publicação: 1949\n",
      "Emprestado: False\n",
      "Usuário: None\n",
      "##########\n"
     ]
    }
   ],
   "source": [
    "biblioteca.listar_livros()\n"
   ]
  },
  {
   "cell_type": "code",
   "execution_count": 37,
   "id": "29a04c58",
   "metadata": {},
   "outputs": [
    {
     "name": "stdout",
     "output_type": "stream",
     "text": [
      "Livro emprestado com sucesso.\n"
     ]
    }
   ],
   "source": [
    "biblioteca.emprestar_livro(livro1, usuario1)"
   ]
  },
  {
   "cell_type": "code",
   "execution_count": 39,
   "id": "b1426426",
   "metadata": {},
   "outputs": [
    {
     "name": "stdout",
     "output_type": "stream",
     "text": [
      "Título: O Senhor dos Anéis\n",
      "Autor: J.R.R. Tolkien\n",
      "Editora: Martins Fontes\n",
      "Ano de publicação: 1954\n",
      "Emprestado: True\n",
      "Usuário: Nome: João\n",
      "Telefone: 11 99999-9999\n",
      "Email: joao@gmail.com\n"
     ]
    }
   ],
   "source": [
    "print(biblioteca.livros[0])"
   ]
  },
  {
   "cell_type": "code",
   "execution_count": 41,
   "id": "265d202e",
   "metadata": {},
   "outputs": [
    {
     "name": "stdout",
     "output_type": "stream",
     "text": [
      "Livro devolvido com sucesso.\n"
     ]
    }
   ],
   "source": [
    "biblioteca.devolver_livro(livro1)\n"
   ]
  },
  {
   "cell_type": "code",
   "execution_count": 42,
   "id": "d1fadcee",
   "metadata": {},
   "outputs": [
    {
     "name": "stdout",
     "output_type": "stream",
     "text": [
      "Nome: João\n",
      "Telefone: 11 99999-9999\n",
      "Email: joao@gmail.com\n",
      "Nome: Maria\n",
      "Telefone: 11 88888-8888\n",
      "Email: maria@gmail.com\n"
     ]
    }
   ],
   "source": [
    "biblioteca.listar_usuarios()\n"
   ]
  },
  {
   "cell_type": "code",
   "execution_count": 44,
   "id": "42b51453",
   "metadata": {},
   "outputs": [],
   "source": [
    "None"
   ]
  },
  {
   "cell_type": "code",
   "execution_count": 46,
   "id": "082f40ed",
   "metadata": {},
   "outputs": [
    {
     "data": {
      "text/plain": [
       "'J.R.R. Tolkien'"
      ]
     },
     "execution_count": 46,
     "metadata": {},
     "output_type": "execute_result"
    }
   ],
   "source": [
    "livro1.autor"
   ]
  },
  {
   "cell_type": "code",
   "execution_count": null,
   "id": "02d9d0fa",
   "metadata": {},
   "outputs": [],
   "source": []
  }
 ],
 "metadata": {
  "kernelspec": {
   "display_name": "Python 3",
   "language": "python",
   "name": "python3"
  },
  "language_info": {
   "codemirror_mode": {
    "name": "ipython",
    "version": 3
   },
   "file_extension": ".py",
   "mimetype": "text/x-python",
   "name": "python",
   "nbconvert_exporter": "python",
   "pygments_lexer": "ipython3",
   "version": "3.9.15"
  }
 },
 "nbformat": 4,
 "nbformat_minor": 5
}
