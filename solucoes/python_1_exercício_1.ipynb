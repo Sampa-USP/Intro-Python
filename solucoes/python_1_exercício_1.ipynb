{
 "cells": [
  {
   "cell_type": "markdown",
   "id": "99c4cd5f",
   "metadata": {},
   "source": [
    "## dadas duas variáveis, troque seus valores"
   ]
  },
  {
   "cell_type": "code",
   "execution_count": 1,
   "id": "cdd25879",
   "metadata": {},
   "outputs": [
    {
     "name": "stdout",
     "output_type": "stream",
     "text": [
      "1 2\n",
      "2 1\n"
     ]
    }
   ],
   "source": [
    "x = 1\n",
    "y = 2\n",
    "\n",
    "print(x,y)\n",
    "\n",
    "#para trocar basta uma terceira variável : \n",
    "\n",
    "z = x\n",
    "x = y\n",
    "y = z\n",
    "\n",
    "print(x,y)"
   ]
  },
  {
   "cell_type": "markdown",
   "id": "cc4a8426",
   "metadata": {},
   "source": [
    "## soma de tipos booleanos"
   ]
  },
  {
   "cell_type": "code",
   "execution_count": 8,
   "id": "c14b2a25",
   "metadata": {},
   "outputs": [
    {
     "name": "stdout",
     "output_type": "stream",
     "text": [
      "Soma 1\n",
      "Multiplicação 0\n",
      "Divisão 0.0\n",
      "True\n",
      "True\n"
     ]
    }
   ],
   "source": [
    "x = True\n",
    "y = False\n",
    "\n",
    "print(f\"Soma {x + y}\")\n",
    "print(f\"Multiplicação {x * y}\")\n",
    "print(f\"Divisão {y / x}\")\n",
    "print(x==1)\n",
    "print(y==0)"
   ]
  },
  {
   "cell_type": "markdown",
   "id": "e95f5736",
   "metadata": {},
   "source": [
    "## operadores em python"
   ]
  },
  {
   "cell_type": "code",
   "execution_count": 15,
   "id": "0cf4280b",
   "metadata": {},
   "outputs": [
    {
     "name": "stdout",
     "output_type": "stream",
     "text": [
      "x 3 xx 9\n"
     ]
    }
   ],
   "source": [
    "x = 3\n",
    "\n",
    "\n",
    "print(\"x\",x,\"xx\",x*x)"
   ]
  },
  {
   "cell_type": "code",
   "execution_count": 11,
   "id": "8ec4d45c",
   "metadata": {},
   "outputs": [
    {
     "name": "stdout",
     "output_type": "stream",
     "text": [
      "x // y :  0\n",
      "x / y :  0.5\n",
      "x % y :  1\n",
      "x ** y :  1\n"
     ]
    }
   ],
   "source": [
    "x = 1\n",
    "y = 2\n",
    "\n",
    "print(\"x // y : \", x // y)\n",
    "print(\"x / y : \", x / y)\n",
    "print(\"x % y : \", x % y)\n",
    "print(\"x ** y : \", x ** y)"
   ]
  },
  {
   "cell_type": "markdown",
   "id": "cd685aa9",
   "metadata": {},
   "source": [
    "## resultado de operadores aritméticos comparativos"
   ]
  },
  {
   "cell_type": "code",
   "execution_count": 16,
   "id": "f502cdbf",
   "metadata": {},
   "outputs": [
    {
     "name": "stdout",
     "output_type": "stream",
     "text": [
      "x > y: False\n",
      "x < y: True\n",
      "x >= y: False\n",
      "x <= y: True\n",
      "x == y: False\n"
     ]
    }
   ],
   "source": [
    "x = 1\n",
    "y = 66\n",
    "\n",
    "print(\"x > y:\", x > y)\n",
    "print(\"x < y:\", x < y)\n",
    "print(\"x >= y:\", x >= y)\n",
    "print(\"x <= y:\", x<=y)\n",
    "print(\"x == y:\", x==y)"
   ]
  },
  {
   "cell_type": "code",
   "execution_count": null,
   "id": "4b4d0a0f",
   "metadata": {},
   "outputs": [],
   "source": []
  }
 ],
 "metadata": {
  "kernelspec": {
   "display_name": "Python 3 (ipykernel)",
   "language": "python",
   "name": "python3"
  },
  "language_info": {
   "codemirror_mode": {
    "name": "ipython",
    "version": 3
   },
   "file_extension": ".py",
   "mimetype": "text/x-python",
   "name": "python",
   "nbconvert_exporter": "python",
   "pygments_lexer": "ipython3",
   "version": "3.8.16"
  }
 },
 "nbformat": 4,
 "nbformat_minor": 5
}
